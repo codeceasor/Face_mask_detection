{
  "nbformat": 4,
  "nbformat_minor": 0,
  "metadata": {
    "colab": {
      "name": "Face mask detection",
      "provenance": [],
      "mount_file_id": "1uu0EmS9I2Y5-Nzx9_q5WijsgvHjgkLOr",
      "authorship_tag": "ABX9TyOZAsWViYNxMKN0/NSY8cRI",
      "include_colab_link": true
    },
    "kernelspec": {
      "name": "python3",
      "display_name": "Python 3"
    }
  },
  "cells": [
    {
      "cell_type": "markdown",
      "metadata": {
        "id": "view-in-github",
        "colab_type": "text"
      },
      "source": [
        "<a href=\"https://colab.research.google.com/github/simranoscar/Face_mask_detection/blob/main/Face_mask_detection.ipynb\" target=\"_parent\"><img src=\"https://colab.research.google.com/assets/colab-badge.svg\" alt=\"Open In Colab\"/></a>"
      ]
    },
    {
      "cell_type": "code",
      "metadata": {
        "id": "d1Qj4DWfAMpd"
      },
      "source": [
        ""
      ],
      "execution_count": null,
      "outputs": []
    },
    {
      "cell_type": "code",
      "metadata": {
        "id": "H6SKKq3SAnLT"
      },
      "source": [
        "from keras.optimizers import RMSprop\n",
        "from keras.preprocessing.image import ImageDataGenerator\n",
        "import cv2\n",
        "from keras.models import Sequential\n",
        "from keras.layers import Conv2D, Input, ZeroPadding2D, BatchNormalization, Activation, MaxPooling2D, Flatten, Dense,Dropout\n",
        "from keras.models import Model, load_model\n",
        "from keras.callbacks import TensorBoard, ModelCheckpoint\n",
        "from sklearn.model_selection import train_test_split\n",
        "from sklearn.metrics import f1_score\n",
        "from sklearn.utils import shuffle\n",
        "import imutils\n",
        "import numpy as np"
      ],
      "execution_count": 13,
      "outputs": []
    },
    {
      "cell_type": "code",
      "metadata": {
        "id": "oVrhsH0yAu8Q"
      },
      "source": [
        ""
      ],
      "execution_count": null,
      "outputs": []
    },
    {
      "cell_type": "code",
      "metadata": {
        "id": "z7_xCBSCAv8X"
      },
      "source": [
        "model = Sequential([\n",
        "    Conv2D(100, (3,3), activation='relu', input_shape=(150, 150, 3)),\n",
        "    MaxPooling2D(2,2),\n",
        "    \n",
        "    Conv2D(100, (3,3), activation='relu'),\n",
        "    MaxPooling2D(2,2),\n",
        "    \n",
        "    Flatten(),\n",
        "    Dropout(0.5),\n",
        "    Dense(50, activation='relu'),\n",
        "    Dense(2, activation='softmax')\n",
        "])\n",
        "model.compile(optimizer='adam', loss='binary_crossentropy', metrics=['acc'])"
      ],
      "execution_count": 14,
      "outputs": []
    },
    {
      "cell_type": "code",
      "metadata": {
        "id": "d1JhuBORA0ML"
      },
      "source": [
        ""
      ],
      "execution_count": null,
      "outputs": []
    },
    {
      "cell_type": "code",
      "metadata": {
        "colab": {
          "base_uri": "https://localhost:8080/"
        },
        "id": "7fe5Z981A02I",
        "outputId": "2f5b0cc7-e13f-4134-c502-d28a0690f6f8"
      },
      "source": [
        "TRAINING_DIR = \"/content/drive/MyDrive/Dataset_face_mask/train\"\n",
        "train_datagen = ImageDataGenerator(rescale=1.0/255,\n",
        "                                   rotation_range=40,\n",
        "                                   width_shift_range=0.2,\n",
        "                                   height_shift_range=0.2,\n",
        "                                   shear_range=0.2,\n",
        "                                   zoom_range=0.2,\n",
        "                                   horizontal_flip=True,\n",
        "                                   fill_mode='nearest')\n",
        "train_generator = train_datagen.flow_from_directory(TRAINING_DIR, \n",
        "                                                    batch_size=10, \n",
        "                                                    target_size=(150, 150))\n",
        "VALIDATION_DIR = \"/content/drive/MyDrive/Dataset_face_mask/test\"\n",
        "validation_datagen = ImageDataGenerator(rescale=1.0/255)\n",
        "validation_generator = validation_datagen.flow_from_directory(VALIDATION_DIR, \n",
        "                                                         batch_size=10, \n",
        "                                                         target_size=(150, 150))"
      ],
      "execution_count": 15,
      "outputs": [
        {
          "output_type": "stream",
          "text": [
            "Found 1315 images belonging to 2 classes.\n",
            "Found 194 images belonging to 2 classes.\n"
          ],
          "name": "stdout"
        }
      ]
    },
    {
      "cell_type": "code",
      "metadata": {
        "id": "3RsU5qs0HS0O"
      },
      "source": [
        ""
      ],
      "execution_count": null,
      "outputs": []
    },
    {
      "cell_type": "code",
      "metadata": {
        "id": "nqxqCH6pH-Br",
        "colab": {
          "base_uri": "https://localhost:8080/"
        },
        "outputId": "24493913-e410-487e-f8ac-bd8f40111cfa"
      },
      "source": [
        "history = model.fit_generator(train_generator,\n",
        "                              epochs=10,\n",
        "                              validation_data=validation_generator)\n",
        "print(\"The model has successfully trained\")\n",
        "\n",
        "#TO SAVE THE MODEL\n",
        "model.save('Face.h5')\n",
        "print(\"Saving the model as Face.h5\")"
      ],
      "execution_count": 20,
      "outputs": [
        {
          "output_type": "stream",
          "text": [
            "Epoch 1/10\n",
            "132/132 [==============================] - 121s 918ms/step - loss: 0.1918 - acc: 0.9316 - val_loss: 0.0670 - val_acc: 0.9794\n",
            "Epoch 2/10\n",
            "132/132 [==============================] - 121s 916ms/step - loss: 0.1831 - acc: 0.9323 - val_loss: 0.0997 - val_acc: 0.9433\n",
            "Epoch 3/10\n",
            "132/132 [==============================] - 121s 915ms/step - loss: 0.2595 - acc: 0.8989 - val_loss: 0.0787 - val_acc: 0.9536\n",
            "Epoch 4/10\n",
            "132/132 [==============================] - 121s 918ms/step - loss: 0.1988 - acc: 0.9232 - val_loss: 0.0804 - val_acc: 0.9639\n",
            "Epoch 5/10\n",
            "132/132 [==============================] - 120s 912ms/step - loss: 0.1579 - acc: 0.9468 - val_loss: 0.0688 - val_acc: 0.9691\n",
            "Epoch 6/10\n",
            "132/132 [==============================] - 121s 913ms/step - loss: 0.1487 - acc: 0.9445 - val_loss: 0.1673 - val_acc: 0.9175\n",
            "Epoch 7/10\n",
            "132/132 [==============================] - 120s 913ms/step - loss: 0.1688 - acc: 0.9361 - val_loss: 0.0787 - val_acc: 0.9691\n",
            "Epoch 8/10\n",
            "132/132 [==============================] - 120s 912ms/step - loss: 0.1506 - acc: 0.9399 - val_loss: 0.0856 - val_acc: 0.9485\n",
            "Epoch 9/10\n",
            "132/132 [==============================] - 121s 915ms/step - loss: 0.1625 - acc: 0.9308 - val_loss: 0.2323 - val_acc: 0.8969\n",
            "Epoch 10/10\n",
            "132/132 [==============================] - 120s 911ms/step - loss: 0.1502 - acc: 0.9445 - val_loss: 0.0749 - val_acc: 0.9691\n",
            "The model has successfully trained\n",
            "Saving the model as Face.h5\n"
          ],
          "name": "stdout"
        }
      ]
    },
    {
      "cell_type": "code",
      "metadata": {
        "id": "W2EK2xYLWQXM"
      },
      "source": [
        "score = model.evaluate(x_test, y_test, verbose=0)\n",
        "print('Test loss:', score[0])\n",
        "print('Test accuracy:', score[1])"
      ],
      "execution_count": null,
      "outputs": []
    },
    {
      "cell_type": "code",
      "metadata": {
        "id": "RWu80RVwATad"
      },
      "source": [
        ""
      ],
      "execution_count": null,
      "outputs": []
    }
  ]
}