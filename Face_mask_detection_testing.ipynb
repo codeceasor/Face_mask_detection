{
  "nbformat": 4,
  "nbformat_minor": 0,
  "metadata": {
    "colab": {
      "name": "Face mask detection testing",
      "provenance": [],
      "authorship_tag": "ABX9TyOgse/SwzPIbVYLoyIIZiLK",
      "include_colab_link": true
    },
    "kernelspec": {
      "name": "python3",
      "display_name": "Python 3"
    }
  },
  "cells": [
    {
      "cell_type": "markdown",
      "metadata": {
        "id": "view-in-github",
        "colab_type": "text"
      },
      "source": [
        "<a href=\"https://colab.research.google.com/github/simranoscar/Face_mask_detection/blob/main/Face_mask_detection_testing.ipynb\" target=\"_parent\"><img src=\"https://colab.research.google.com/assets/colab-badge.svg\" alt=\"Open In Colab\"/></a>"
      ]
    },
    {
      "cell_type": "code",
      "metadata": {
        "id": "7lLdjp1Iu1PJ"
      },
      "source": [
        "#Face_mask_detection testing file"
      ],
      "execution_count": null,
      "outputs": []
    },
    {
      "cell_type": "code",
      "metadata": {
        "id": "MZO877GKu8UA"
      },
      "source": [
        "import cv2\n",
        "import numpy as np\n",
        "from keras.models import load_model\n",
        "model=load_model(\"Face.h5\")\n",
        "\n",
        "results={0:'without mask',1:'mask'}\n",
        "GR_dict={0:(0,0,255),1:(0,255,0)}\n",
        "\n",
        "rect_size = 4\n",
        "cap = cv2.VideoCapture(0) \n",
        "\n",
        "\n",
        "haarcascade = cv2.CascadeClassifier('C:\\\\Users\\\\hp\\\\Desktop\\\\face_project\\\\haarcascade_frontalface_default.xml')\n",
        "\n",
        "while True:\n",
        "    (rval, im) = cap.read()\n",
        "    im=cv2.flip(im,1,1) \n",
        "\n",
        "    \n",
        "    rerect_size = cv2.resize(im, (im.shape[1] // rect_size, im.shape[0] // rect_size))\n",
        "    faces = haarcascade.detectMultiScale(rerect_size)\n",
        "    for f in faces:\n",
        "        (x, y, w, h) = [v * rect_size for v in f] \n",
        "        \n",
        "        face_img = im[y:y+h, x:x+w]\n",
        "        rerect_sized=cv2.resize(face_img,(150,150))\n",
        "        normalized=rerect_sized/255.0\n",
        "        reshaped=np.reshape(normalized,(1,150,150,3))\n",
        "        reshaped = np.vstack([reshaped])\n",
        "        result=model.predict(reshaped)\n",
        "\n",
        "        \n",
        "        label=np.argmax(result,axis=1)[0]\n",
        "      \n",
        "        cv2.rectangle(im,(x,y),(x+w,y+h),GR_dict[label],2)\n",
        "        cv2.rectangle(im,(x,y-40),(x+w,y),GR_dict[label],-1)\n",
        "        cv2.putText(im, results[label], (x, y-10),cv2.FONT_HERSHEY_SIMPLEX,0.8,(255,255,255),2)\n",
        "\n",
        "    cv2.imshow('LIVE',   im)\n",
        "    key = cv2.waitKey(10)\n",
        "    \n",
        "    if key == 27: \n",
        "        break\n",
        "\n",
        "cap.release()\n",
        "\n",
        "cv2.destroyAllWindows()"
      ],
      "execution_count": null,
      "outputs": []
    }
  ]
}